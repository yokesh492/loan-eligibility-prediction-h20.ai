{
 "cells": [
  {
   "cell_type": "code",
   "execution_count": 1,
   "metadata": {},
   "outputs": [],
   "source": [
    "import requests"
   ]
  },
  {
   "cell_type": "code",
   "execution_count": 2,
   "metadata": {},
   "outputs": [
    {
     "data": {
      "text/plain": [
       "{'ans': 'Loan Given'}"
      ]
     },
     "execution_count": 2,
     "metadata": {},
     "output_type": "execute_result"
    }
   ],
   "source": [
    "# Normal API call with all inputs in correct format\n",
    "\n",
    "url = 'http://127.0.0.1:1234/'\n",
    "params = {'Current Loan Amount': 28053, 'Term': 'Long Term', 'Credit Score': 6740, \n",
    "          'Years in current job': 3, 'Home Ownership': 'Rent', 'Annual Income': 120228,\n",
    "         'Purpose': 'Debt Consolidation', 'Monthly Debt': 1442.74, 'Years of Credit History': 13,\n",
    "         'Months since last delinquent':6, 'Number of Open Accounts': 13, 'Number of Credit Problems': 0,\n",
    "         'Current Credit Balance': 20466, 'Maximum Open Credit': 30455, 'Bankruptcies': 0, 'Tax Liens': 0}\n",
    "\n",
    "response = requests.get(url, params)\n",
    "response.json()"
   ]
  },
  {
   "cell_type": "code",
   "execution_count": null,
   "metadata": {},
   "outputs": [],
   "source": []
  }
 ],
 "metadata": {
  "kernelspec": {
   "display_name": "Python 3",
   "language": "python",
   "name": "python3"
  },
  "language_info": {
   "codemirror_mode": {
    "name": "ipython",
    "version": 3
   },
   "file_extension": ".py",
   "mimetype": "text/x-python",
   "name": "python",
   "nbconvert_exporter": "python",
   "pygments_lexer": "ipython3",
   "version": "3.8.5"
  }
 },
 "nbformat": 4,
 "nbformat_minor": 4
}
